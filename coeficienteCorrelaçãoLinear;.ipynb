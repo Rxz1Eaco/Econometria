{
 "cells": [
  {
   "cell_type": "code",
   "execution_count": 2,
   "metadata": {},
   "outputs": [
    {
     "data": {
      "text/html": [
       "<div>\n",
       "<style scoped>\n",
       "    .dataframe tbody tr th:only-of-type {\n",
       "        vertical-align: middle;\n",
       "    }\n",
       "\n",
       "    .dataframe tbody tr th {\n",
       "        vertical-align: top;\n",
       "    }\n",
       "\n",
       "    .dataframe thead th {\n",
       "        text-align: right;\n",
       "    }\n",
       "</style>\n",
       "<table border=\"1\" class=\"dataframe\">\n",
       "  <thead>\n",
       "    <tr style=\"text-align: right;\">\n",
       "      <th></th>\n",
       "      <th>x</th>\n",
       "      <th>y</th>\n",
       "    </tr>\n",
       "  </thead>\n",
       "  <tbody>\n",
       "    <tr>\n",
       "      <th>0</th>\n",
       "      <td>3</td>\n",
       "      <td>7</td>\n",
       "    </tr>\n",
       "    <tr>\n",
       "      <th>1</th>\n",
       "      <td>2</td>\n",
       "      <td>5</td>\n",
       "    </tr>\n",
       "    <tr>\n",
       "      <th>2</th>\n",
       "      <td>-1</td>\n",
       "      <td>-1</td>\n",
       "    </tr>\n",
       "    <tr>\n",
       "      <th>3</th>\n",
       "      <td>4</td>\n",
       "      <td>9</td>\n",
       "    </tr>\n",
       "  </tbody>\n",
       "</table>\n",
       "</div>"
      ],
      "text/plain": [
       "   x  y\n",
       "0  3  7\n",
       "1  2  5\n",
       "2 -1 -1\n",
       "3  4  9"
      ]
     },
     "execution_count": 2,
     "metadata": {},
     "output_type": "execute_result"
    }
   ],
   "source": [
    "import pandas as pd \n",
    "dados = {'x':[3,2,-1,4],\n",
    "         'y':[7,5,-1,9]}\n",
    "\n",
    "df = pd.DataFrame(dados)\n",
    "df"
   ]
  },
  {
   "cell_type": "code",
   "execution_count": 3,
   "metadata": {},
   "outputs": [
    {
     "data": {
      "text/html": [
       "<div>\n",
       "<style scoped>\n",
       "    .dataframe tbody tr th:only-of-type {\n",
       "        vertical-align: middle;\n",
       "    }\n",
       "\n",
       "    .dataframe tbody tr th {\n",
       "        vertical-align: top;\n",
       "    }\n",
       "\n",
       "    .dataframe thead th {\n",
       "        text-align: right;\n",
       "    }\n",
       "</style>\n",
       "<table border=\"1\" class=\"dataframe\">\n",
       "  <thead>\n",
       "    <tr style=\"text-align: right;\">\n",
       "      <th></th>\n",
       "      <th>x</th>\n",
       "      <th>y</th>\n",
       "      <th>x^2</th>\n",
       "      <th>y^2</th>\n",
       "      <th>xy</th>\n",
       "    </tr>\n",
       "  </thead>\n",
       "  <tbody>\n",
       "    <tr>\n",
       "      <th>0</th>\n",
       "      <td>3</td>\n",
       "      <td>7</td>\n",
       "      <td>9</td>\n",
       "      <td>49</td>\n",
       "      <td>21</td>\n",
       "    </tr>\n",
       "    <tr>\n",
       "      <th>1</th>\n",
       "      <td>2</td>\n",
       "      <td>5</td>\n",
       "      <td>4</td>\n",
       "      <td>25</td>\n",
       "      <td>10</td>\n",
       "    </tr>\n",
       "    <tr>\n",
       "      <th>2</th>\n",
       "      <td>-1</td>\n",
       "      <td>-1</td>\n",
       "      <td>1</td>\n",
       "      <td>1</td>\n",
       "      <td>1</td>\n",
       "    </tr>\n",
       "    <tr>\n",
       "      <th>3</th>\n",
       "      <td>4</td>\n",
       "      <td>9</td>\n",
       "      <td>16</td>\n",
       "      <td>81</td>\n",
       "      <td>36</td>\n",
       "    </tr>\n",
       "  </tbody>\n",
       "</table>\n",
       "</div>"
      ],
      "text/plain": [
       "   x  y  x^2  y^2  xy\n",
       "0  3  7    9   49  21\n",
       "1  2  5    4   25  10\n",
       "2 -1 -1    1    1   1\n",
       "3  4  9   16   81  36"
      ]
     },
     "metadata": {},
     "output_type": "display_data"
    }
   ],
   "source": [
    "df['x^2'] = df['x'] ** 2 \n",
    "df['y^2'] = df['y'] ** 2 \n",
    "df['xy']  = df['x'] * df['y']\n",
    "display(df)"
   ]
  },
  {
   "cell_type": "code",
   "execution_count": 4,
   "metadata": {},
   "outputs": [
    {
     "name": "stdout",
     "output_type": "stream",
     "text": [
      "Nó 4\n",
      "Somatório x:   8\n",
      "Somatório y:   20\n",
      "Somatório x^2: 30\n",
      "Somatório y^2: 156\n",
      "Somatório xy:  68\n"
     ]
    }
   ],
   "source": [
    "n = len(df)\n",
    "sx = df['x'].sum()\n",
    "sy = df['y'].sum()\n",
    "sx2 = df['x^2'].sum()\n",
    "sy2 = df['y^2'].sum()\n",
    "sxy = df['xy'].sum()\n",
    "\n",
    "print(f'Nó {n}')\n",
    "print(f'Somatório x:   {sx}')\n",
    "print(f'Somatório y:   {sy}')\n",
    "print(f'Somatório x^2: {sx2}')\n",
    "print(f'Somatório y^2: {sy2}')\n",
    "print(f'Somatório xy:  {sxy}')"
   ]
  },
  {
   "cell_type": "code",
   "execution_count": 13,
   "metadata": {},
   "outputs": [
    {
     "name": "stdout",
     "output_type": "stream",
     "text": [
      "Coeficente de Correlaçao Linear é: 1.0 e Forte\n"
     ]
    }
   ],
   "source": [
    "cc = ((n*sxy)-(sx*sy))/((n * sx2 - sx**2) * (n * sy2 - sy**2)) ** 0.5\n",
    "if cc >= 1:\n",
    "    print(f'Coeficente de Correlaçao Linear é: {cc} e Forte')\n",
    "elif 0 > cc < 0.5:\n",
    "    print(f'Coeficente de Correlaçao Linear é: {cc} e Fraco ')\n",
    "elif -0.5 >= cc <=0:    \n",
    "    print(f'Coeficente de Correlaçao Linear é: {cc} e Fraco ')\n",
    "else:\n",
    "    print(f'Coeficente de Correlaçao Linear é: {cc} e Forte ')\n"
   ]
  },
  {
   "cell_type": "markdown",
   "metadata": {},
   "source": [
    "Exercicios:"
   ]
  },
  {
   "cell_type": "code",
   "execution_count": 15,
   "metadata": {},
   "outputs": [
    {
     "data": {
      "text/html": [
       "<div>\n",
       "<style scoped>\n",
       "    .dataframe tbody tr th:only-of-type {\n",
       "        vertical-align: middle;\n",
       "    }\n",
       "\n",
       "    .dataframe tbody tr th {\n",
       "        vertical-align: top;\n",
       "    }\n",
       "\n",
       "    .dataframe thead th {\n",
       "        text-align: right;\n",
       "    }\n",
       "</style>\n",
       "<table border=\"1\" class=\"dataframe\">\n",
       "  <thead>\n",
       "    <tr style=\"text-align: right;\">\n",
       "      <th></th>\n",
       "      <th>x</th>\n",
       "      <th>y</th>\n",
       "    </tr>\n",
       "  </thead>\n",
       "  <tbody>\n",
       "    <tr>\n",
       "      <th>0</th>\n",
       "      <td>1</td>\n",
       "      <td>1</td>\n",
       "    </tr>\n",
       "    <tr>\n",
       "      <th>1</th>\n",
       "      <td>2</td>\n",
       "      <td>-1</td>\n",
       "    </tr>\n",
       "    <tr>\n",
       "      <th>2</th>\n",
       "      <td>4</td>\n",
       "      <td>-5</td>\n",
       "    </tr>\n",
       "    <tr>\n",
       "      <th>3</th>\n",
       "      <td>-1</td>\n",
       "      <td>5</td>\n",
       "    </tr>\n",
       "  </tbody>\n",
       "</table>\n",
       "</div>"
      ],
      "text/plain": [
       "   x  y\n",
       "0  1  1\n",
       "1  2 -1\n",
       "2  4 -5\n",
       "3 -1  5"
      ]
     },
     "metadata": {},
     "output_type": "display_data"
    }
   ],
   "source": [
    "ex = {'x':[1,2,4,-1],\n",
    "      'y':[1,-1,-5,5]}\n",
    "\n",
    "df_ex = pd.DataFrame(ex)\n",
    "display(df_ex)"
   ]
  },
  {
   "cell_type": "code",
   "execution_count": 19,
   "metadata": {},
   "outputs": [
    {
     "data": {
      "text/html": [
       "<div>\n",
       "<style scoped>\n",
       "    .dataframe tbody tr th:only-of-type {\n",
       "        vertical-align: middle;\n",
       "    }\n",
       "\n",
       "    .dataframe tbody tr th {\n",
       "        vertical-align: top;\n",
       "    }\n",
       "\n",
       "    .dataframe thead th {\n",
       "        text-align: right;\n",
       "    }\n",
       "</style>\n",
       "<table border=\"1\" class=\"dataframe\">\n",
       "  <thead>\n",
       "    <tr style=\"text-align: right;\">\n",
       "      <th></th>\n",
       "      <th>x</th>\n",
       "      <th>y</th>\n",
       "      <th>x^2</th>\n",
       "      <th>y^2</th>\n",
       "      <th>xy</th>\n",
       "    </tr>\n",
       "  </thead>\n",
       "  <tbody>\n",
       "    <tr>\n",
       "      <th>0</th>\n",
       "      <td>1</td>\n",
       "      <td>1</td>\n",
       "      <td>1</td>\n",
       "      <td>1</td>\n",
       "      <td>1</td>\n",
       "    </tr>\n",
       "    <tr>\n",
       "      <th>1</th>\n",
       "      <td>2</td>\n",
       "      <td>-1</td>\n",
       "      <td>4</td>\n",
       "      <td>1</td>\n",
       "      <td>-2</td>\n",
       "    </tr>\n",
       "    <tr>\n",
       "      <th>2</th>\n",
       "      <td>4</td>\n",
       "      <td>-5</td>\n",
       "      <td>16</td>\n",
       "      <td>25</td>\n",
       "      <td>-20</td>\n",
       "    </tr>\n",
       "    <tr>\n",
       "      <th>3</th>\n",
       "      <td>-1</td>\n",
       "      <td>5</td>\n",
       "      <td>1</td>\n",
       "      <td>25</td>\n",
       "      <td>-5</td>\n",
       "    </tr>\n",
       "  </tbody>\n",
       "</table>\n",
       "</div>"
      ],
      "text/plain": [
       "   x  y  x^2  y^2  xy\n",
       "0  1  1    1    1   1\n",
       "1  2 -1    4    1  -2\n",
       "2  4 -5   16   25 -20\n",
       "3 -1  5    1   25  -5"
      ]
     },
     "metadata": {},
     "output_type": "display_data"
    }
   ],
   "source": [
    "df_ex['x^2'] = df_ex['x'] ** 2 \n",
    "df_ex['y^2'] = df_ex['y'] ** 2 \n",
    "df_ex['xy']  = df_ex['x'] * df_ex['y']\n",
    "display(df_ex)"
   ]
  },
  {
   "cell_type": "code",
   "execution_count": 20,
   "metadata": {},
   "outputs": [
    {
     "name": "stdout",
     "output_type": "stream",
     "text": [
      "Nó 4\n",
      "Somatório x:   6\n",
      "Somatório y:   0\n",
      "Somatório x^2: 22\n",
      "Somatório y^2: 52\n",
      "Somatório xy:  -26\n"
     ]
    }
   ],
   "source": [
    "n = len(df_ex)\n",
    "ex_sx = df_ex['x'].sum()\n",
    "ex_sy = df_ex['y'].sum()\n",
    "ex_sx2 = df_ex['x^2'].sum()\n",
    "ex_sy2 = df_ex['y^2'].sum()\n",
    "ex_sxy = df_ex['xy'].sum()\n",
    "\n",
    "print(f'Nó {n}')\n",
    "print(f'Somatório x:   {ex_sx}')\n",
    "print(f'Somatório y:   {ex_sy}')\n",
    "print(f'Somatório x^2: {ex_sx2}')\n",
    "print(f'Somatório y^2: {ex_sy2}')\n",
    "print(f'Somatório xy:  {ex_sxy}')"
   ]
  },
  {
   "cell_type": "markdown",
   "metadata": {},
   "source": [
    "\n",
    "$$ b = \\frac{n \\sum x_i y_i - \\sum x_i \\sum y_i}\n",
    "{\\sqrt{(n \\sum x_i^2 - (\\sum x_i)^2) (n \\sum y_i^2 - (\\sum y_i)^2)}}$$\n",
    "\n"
   ]
  },
  {
   "cell_type": "code",
   "execution_count": 43,
   "metadata": {},
   "outputs": [
    {
     "name": "stdout",
     "output_type": "stream",
     "text": [
      "Coeficiente de Correlação Linear: -1.0000 (Forte e Negativa)\n"
     ]
    }
   ],
   "source": [
    "numerador = (n * ex_sxy) - (ex_sx * ex_sy)\n",
    "denominador = ((n * ex_sx2 - ex_sx**2) * (n * ex_sy2 - ex_sy**2)) ** 0.5\n",
    "\n",
    "if denominador == 0:\n",
    "    print(\"O coeficiente de correlação não pode ser calculado (denominador zero).\")\n",
    "else:\n",
    "    b = numerador / denominador\n",
    "\n",
    "    if b <= -0.5:\n",
    "        intensidade = \"Forte\"\n",
    "        direcao = \"Negativa\"\n",
    "    elif -0.5 < b < 0:\n",
    "        intensidade = \"Fraca\"\n",
    "        direcao = \"Negativa\"\n",
    "    elif 0 < b < 0.5:\n",
    "        intensidade = \"Fraca\"\n",
    "        direcao = \"Positiva\"\n",
    "    else:  # b >= 0.5\n",
    "        intensidade = \"Forte\"\n",
    "        direcao = \"Positiva\"\n",
    "\n",
    "    print(f\"Coeficiente de Correlação Linear: {b:.4f} ({intensidade} e {direcao})\")\n"
   ]
  }
 ],
 "metadata": {
  "kernelspec": {
   "display_name": "Python 3",
   "language": "python",
   "name": "python3"
  },
  "language_info": {
   "codemirror_mode": {
    "name": "ipython",
    "version": 3
   },
   "file_extension": ".py",
   "mimetype": "text/x-python",
   "name": "python",
   "nbconvert_exporter": "python",
   "pygments_lexer": "ipython3",
   "version": "3.12.2"
  }
 },
 "nbformat": 4,
 "nbformat_minor": 2
}
